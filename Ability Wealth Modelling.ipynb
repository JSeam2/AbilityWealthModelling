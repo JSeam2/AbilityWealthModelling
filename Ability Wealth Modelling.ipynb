{
 "cells": [
  {
   "cell_type": "markdown",
   "metadata": {},
   "source": [
    "# Ability - Wealth Modelling\n",
    "\n",
    "Ability like IQ can be modelled as a normal distribution, however, wealth in society follows a power law. Why is this the case? Suppose if outcomes are path dependent, with the state in previous steps influencing the later steps, will the final distribution follow a power law? This notebook seeks to model this. \n",
    "\n",
    "Results: Apparently, this is true. Oh wow!"
   ]
  },
  {
   "cell_type": "code",
   "execution_count": 2,
   "metadata": {},
   "outputs": [],
   "source": [
    "import matplotlib.pyplot as plt\n",
    "import seaborn as sns\n",
    "import pandas as pd\n",
    "import numpy as np\n",
    "import math as math\n",
    "from pylab import rcParams\n",
    "import scipy.stats \n",
    "\n",
    "%matplotlib inline"
   ]
  },
  {
   "cell_type": "markdown",
   "metadata": {},
   "source": [
    "## Initial Parameters\n",
    "\n",
    "We have an initial population size of 1000. \n",
    "\n",
    "Consider Ability to be between 0-100 following a truncated normal distribution.\n",
    "\n",
    "Consider Initial wealth to be 0. (To experiment with initial wealth distributions)"
   ]
  },
  {
   "cell_type": "code",
   "execution_count": 26,
   "metadata": {},
   "outputs": [
    {
     "data": {
      "text/plain": [
       "<matplotlib.axes._subplots.AxesSubplot at 0x1392523d0>"
      ]
     },
     "execution_count": 26,
     "metadata": {},
     "output_type": "execute_result"
    },
    {
     "data": {
      "image/png": "[encoded data removed]",
      "text/plain": [
       "<Figure size 432x288 with 1 Axes>"
      ]
     },
     "metadata": {
      "needs_background": "light"
     },
     "output_type": "display_data"
    }
   ],
   "source": [
    "N = 1000\n",
    "\n",
    "lower = 0\n",
    "upper = 100\n",
    "mu = 50\n",
    "sigma = 15\n",
    "\n",
    "ability = scipy.stats.truncnorm.rvs(\n",
    "          (lower-mu)/sigma,(upper-mu)/sigma,loc=mu,scale=sigma,size=N)\n",
    "\n",
    "wealth = np.zeros(shape=(N))\n",
    "\n",
    "pd_ability = pd.Series(ability, name=\"Ability\")\n",
    "sns.distplot(pd_ability)"
   ]
  },
  {
   "cell_type": "markdown",
   "metadata": {},
   "source": [
    "## Transition Function\n",
    "At every time period, conditioned upon given ability and current wealth the wealth goes up or down given some percentage chance"
   ]
  },
  {
   "cell_type": "code",
   "execution_count": 21,
   "metadata": {},
   "outputs": [],
   "source": [
    "def trans_fn(wealth_el, ability_el):\n",
    "    \"\"\"\n",
    "    Outputs new wealth\n",
    "    \"\"\"\n",
    "    # take the simple average of wealth and ability / 100. \n",
    "    # This gives us the probability of going up\n",
    "    avg_el = (wealth_el + ability_el) / 2\n",
    "    probability = avg_el / 100\n",
    "    \n",
    "    if probability > np.random.rand():\n",
    "        return wealth_el + 1\n",
    "    else:\n",
    "        if wealth_el > 0:\n",
    "            return wealth_el - 1\n",
    "        else:\n",
    "            return 0\n",
    "    \n",
    "\n",
    "vtrans_fn = np.vectorize(trans_fn)\n",
    "\n",
    "# Sanity Check\n",
    "# print(wealth)\n",
    "# new_wealth = vtrans_fn(wealth, ability)\n",
    "# print(new_wealth)"
   ]
  },
  {
   "cell_type": "markdown",
   "metadata": {},
   "source": [
    "## Test The Evolution of the System\n",
    "We run the system for 100 epochs and see the way the wealth distribution evolves"
   ]
  },
  {
   "cell_type": "code",
   "execution_count": 27,
   "metadata": {},
   "outputs": [],
   "source": [
    "results = []\n",
    "epochs = 100\n",
    "\n",
    "\n",
    "for i in range(epochs): \n",
    "    results.append(wealth)\n",
    "    wealth = vtrans_fn(wealth, ability)"
   ]
  },
  {
   "cell_type": "markdown",
   "metadata": {},
   "source": [
    "## Observe Final Wealth\n",
    "We get a power law looking like distribution. Interesting !!"
   ]
  },
  {
   "cell_type": "code",
   "execution_count": 31,
   "metadata": {},
   "outputs": [
    {
     "data": {
      "text/plain": [
       "<matplotlib.axes._subplots.AxesSubplot at 0x1393473a0>"
      ]
     },
     "execution_count": 31,
     "metadata": {},
     "output_type": "execute_result"
    },
    {
     "data": {
      "image/png": "[encoded data removed]",
      "text/plain": [
       "<Figure size 432x288 with 1 Axes>"
      ]
     },
     "metadata": {
      "needs_background": "light"
     },
     "output_type": "display_data"
    }
   ],
   "source": [
    "pd_wealth = pd.Series(wealth, name=\"Wealth\")\n",
    "sns.distplot(pd_wealth)"
   ]
  },
  {
   "cell_type": "markdown",
   "metadata": {},
   "source": [
    "## Todo: Do an animation to visualize the evolution of wealth over the epoch"
   ]
  },
  {
   "cell_type": "code",
   "execution_count": null,
   "metadata": {},
   "outputs": [],
   "source": []
  }
 ],
 "metadata": {
  "kernelspec": {
   "display_name": "Python 3",
   "language": "python",
   "name": "python3"
  },
  "language_info": {
   "codemirror_mode": {
    "name": "ipython",
    "version": 3
   },
   "file_extension": ".py",
   "mimetype": "text/x-python",
   "name": "python",
   "nbconvert_exporter": "python",
   "pygments_lexer": "ipython3",
   "version": "3.8.0"
  }
 },
 "nbformat": 4,
 "nbformat_minor": 4
}
